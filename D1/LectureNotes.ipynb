{
 "cells": [
  {
   "cell_type": "markdown",
   "metadata": {},
   "source": [
    "# Database"
   ]
  },
  {
   "cell_type": "markdown",
   "metadata": {},
   "source": [
    "## Relational Database"
   ]
  },
  {
   "cell_type": "markdown",
   "metadata": {},
   "source": [
    "### Table/Entity"
   ]
  },
  {
   "cell_type": "markdown",
   "metadata": {},
   "source": [
    "- Column/Attribute/Field\n",
    "- Row/Record"
   ]
  },
  {
   "cell_type": "markdown",
   "metadata": {},
   "source": [
    "![](https://s33046.pcdn.co/wp-content/uploads/2020/07/anatomy-of-a-sql-table-F.png)"
   ]
  },
  {
   "cell_type": "markdown",
   "metadata": {},
   "source": [
    "### Primary Key"
   ]
  },
  {
   "cell_type": "markdown",
   "metadata": {},
   "source": [
    "- It's a unique identifier that distinguishes one row from another."
   ]
  },
  {
   "cell_type": "markdown",
   "metadata": {},
   "source": [
    "![](https://www.essentialsql.com/wp-content/uploads/2014/04/RelationalTable.png)"
   ]
  },
  {
   "cell_type": "markdown",
   "metadata": {},
   "source": [
    "### Foreign Key"
   ]
  },
  {
   "cell_type": "markdown",
   "metadata": {},
   "source": [
    "- A foreign key is like a connection link between two tables in a database\n",
    "- It establishes a connection between tables in a database.\n",
    "- Usually, it points to the primary key of another table"
   ]
  },
  {
   "cell_type": "markdown",
   "metadata": {},
   "source": [
    "![](https://jtg2078.github.io/relational-db/img/foreign-key-2.png)"
   ]
  },
  {
   "cell_type": "markdown",
   "metadata": {},
   "source": [
    "## Entity-Relationship Diagram (ERD)"
   ]
  },
  {
   "cell_type": "markdown",
   "metadata": {},
   "source": [
    "- An ERD is like a visual map that shows how different things in a system are related to each other.\n",
    "- types of relationship:\n",
    "    - One-to-One (1:1)\n",
    "    - One-to-Many (1:N)\n",
    "    - Many-to-Many (N:M)"
   ]
  },
  {
   "cell_type": "markdown",
   "metadata": {},
   "source": [
    "![](https://images.edrawsoft.com/articles/er-diagram-symbols/chens-notation-2.png)"
   ]
  },
  {
   "cell_type": "markdown",
   "metadata": {},
   "source": [
    "### ERD Symbols"
   ]
  },
  {
   "cell_type": "markdown",
   "metadata": {},
   "source": [
    "![](https://www.oreilly.com/api/v2/epubs/9788177585674/files/9788177585674_ch06lev1sec5_image01.jpeg)"
   ]
  },
  {
   "cell_type": "markdown",
   "metadata": {},
   "source": [
    "## Normalization"
   ]
  },
  {
   "cell_type": "markdown",
   "metadata": {},
   "source": [
    "- Is a process to ensures that data is structured in a way that reduces redundancy and dependency.\n",
    "- Often involves different `normal forms` each addressing specific organization goals.\n",
    "- There are 7 `normal forms` that be used for database normalization which are evolve from 1NF to 6NF.\n",
    "    - 1NF (First Normal Form)\n",
    "    - 2NF (Second Normal Form)\n",
    "    - 3NF (Third Normal Form)\n",
    "    - BCNF (Boyce-Codd Normal Form)\n",
    "    - 4NF (Fourth Normal Form)\n",
    "    - 5NF (Fifth Normal Form)\n",
    "    - 6NF (Sixth Normal Form)\n",
    "- **However**, in most practical, normalization achieves its best in `3NF`."
   ]
  },
  {
   "cell_type": "markdown",
   "metadata": {},
   "source": [
    "### Un-Normalized"
   ]
  },
  {
   "cell_type": "markdown",
   "metadata": {},
   "source": [
    "| Student_ID | Name       | Courses        | Instructor               | Instructor Email                |\n",
    "|------------|------------|----------------|--------------------------|---------------------------------|\n",
    "| 1          | John Doe   | Math, Physics  | Dr. Johnson, Dr. Smith   | john@mail.com, smith@mail.com   |\n",
    "| 2          | Jane Smith | Chemistry      | Dr. Davis                | davis@mail.com                  |"
   ]
  },
  {
   "cell_type": "markdown",
   "metadata": {},
   "source": [
    "### 1NF Criteria"
   ]
  },
  {
   "cell_type": "markdown",
   "metadata": {},
   "source": [
    "- Each attributes must contain **only one** value.\n",
    "- Each records must be unique -> **primary key** is mandatory"
   ]
  },
  {
   "cell_type": "markdown",
   "metadata": {},
   "source": [
    "#### Result"
   ]
  },
  {
   "cell_type": "markdown",
   "metadata": {},
   "source": [
    "**Student Table**\n",
    "| Student_ID | Name       | Course        | Instructor    | Instructor Email |\n",
    "|------------|------------|---------------|---------------|------------------|\n",
    "| 1          | John Doe   | Math          | Dr. Johnson   | john@mail.com    |\n",
    "| 1          | John Doe   | Physics       | Dr. Smith     | smith@mail.com   |\n",
    "| 2          | Jane Smith | Chemistry     | Dr. Davis     | davis@mail.com   |"
   ]
  },
  {
   "cell_type": "markdown",
   "metadata": {},
   "source": [
    "### 2NF Criteria"
   ]
  },
  {
   "cell_type": "markdown",
   "metadata": {},
   "source": [
    "- Has passed `1NF`.\n",
    "- Every non-primary-key attribute is fully `functionally dependent` on the primary key"
   ]
  },
  {
   "cell_type": "markdown",
   "metadata": {},
   "source": [
    "**Functional Dependency**\n",
    "\n",
    "![](https://csveda.com/wp-content/uploads/2021/04/Full-Functional-Dependency.jpg)"
   ]
  },
  {
   "cell_type": "markdown",
   "metadata": {},
   "source": [
    "#### Result"
   ]
  },
  {
   "cell_type": "markdown",
   "metadata": {},
   "source": [
    "**Student Table**\n",
    "| Student_ID (PK) | Name  |\n",
    "|------------|------------|\n",
    "| 1          | John Doe   |\n",
    "| 2          | Jane Smith |\n",
    "\n",
    "**Student Courses Table**\n",
    "> `Student_ID` and `Course` are composite key ([reference](https://www.geeksforgeeks.org/composite-key-in-sql/))\n",
    "> <br> **TL;DR** when multiple primary keys occur, they are called a `composite key`\n",
    "\n",
    "| Student_ID |Course    |\n",
    "|------------|--------------|\n",
    "| 1          | Math         |\n",
    "| 1          | Physics      |\n",
    "| 2          | Chemistry    |\n",
    "\n",
    "**Course Table**\n",
    "| Course (PK)| Instructor    | Instructor Email |\n",
    "|------------|---------------|------------------|\n",
    "| Math       | Dr. Johnson   | john@mail.com    |\n",
    "| Physics    | Dr. Smith     | smith@mail.com   |\n",
    "| Chemistry  | Dr. Davis     | davis@mail.com   |"
   ]
  },
  {
   "cell_type": "markdown",
   "metadata": {},
   "source": [
    "### 3NF Criteria"
   ]
  },
  {
   "cell_type": "markdown",
   "metadata": {},
   "source": [
    "- Has passed 2NF\n",
    "- No non-primary-key attribute is `transitively dependent` on the primary key"
   ]
  },
  {
   "cell_type": "markdown",
   "metadata": {},
   "source": [
    "**Transitive Dependecy**\n",
    "\n",
    "![](https://www.scaler.com/topics/images/transitive-dependency-in-dbms_thumbnail.webp)"
   ]
  },
  {
   "cell_type": "markdown",
   "metadata": {},
   "source": [
    "#### Result"
   ]
  },
  {
   "cell_type": "markdown",
   "metadata": {},
   "source": [
    "**Student Table**\n",
    "| Student_ID (PK) | Name  |\n",
    "|------------|------------|\n",
    "| 1          | John Doe   |\n",
    "| 2          | Jane Smith |\n",
    "\n",
    "**Student Courses Table**\n",
    "| Student_ID |Course    |\n",
    "|------------|--------------|\n",
    "| 1          | Math         |\n",
    "| 1          | Physics      |\n",
    "| 2          | Chemistry    |\n",
    "\n",
    "**Course Table**\n",
    "| Course (PK)| Instructor    |\n",
    "|------------|---------------|\n",
    "| Math       | Dr. Johnson   |\n",
    "| Physics    | Dr. Smith     |\n",
    "| Chemistry  | Dr. Davis     |\n",
    "\n",
    "**Instructor Table**\n",
    "| Instructor (PK) | Instructor Email |\n",
    "|-----------------|------------------|\n",
    "| Dr. Johnson     | john@mail.com    |\n",
    "| Dr. Smith       | smith@mail.com   |\n",
    "| Dr. Davis       | davis@mail.com   |"
   ]
  },
  {
   "cell_type": "markdown",
   "metadata": {},
   "source": [
    "### References"
   ]
  },
  {
   "cell_type": "markdown",
   "metadata": {},
   "source": [
    "- https://vertabelo.com/blog/normalization-1nf-2nf-3nf/\n",
    "- https://www.geeksforgeeks.org/first-normal-form-1nf/\n",
    "- https://www.geeksforgeeks.org/second-normal-form-2nf/\n",
    "- https://www.geeksforgeeks.org/third-normal-form-3nf/\n",
    "- https://www.tutorialspoint.com/Types-of-dependencies-in-DBMS"
   ]
  },
  {
   "cell_type": "markdown",
   "metadata": {},
   "source": [
    "## Bahan Bacaan Terkait Normalisasi  \n",
    "\n",
    "https://vertabelo.com/blog/normalization-1nf-2nf-3nf/\n",
    "http://www.gitta.info/LogicModelin/en/html/DataConsiten_Abhaeng.html\n",
    "http://www.gitta.info/LogicModelin/en/html/DataConsiten_Norm1NF.html\n",
    "http://www.gitta.info/LogicModelin/en/html/DataConsiten_Norm2NF.html\n",
    "http://www.gitta.info/LogicModelin/en/html/DataConsiten_Norm3NF.html\n",
    "https://www.geeksforgeeks.org/first-normal-form-1nf/\n",
    "https://www.geeksforgeeks.org/second-normal-form-2nf/\n",
    "https://www.geeksforgeeks.org/third-normal-form-3nf/\n",
    "https://www.tutorialspoint.com/Types-of-dependencies-in-DBMS"
   ]
  }
 ],
 "metadata": {
  "language_info": {
   "name": "python"
  }
 },
 "nbformat": 4,
 "nbformat_minor": 2
}
