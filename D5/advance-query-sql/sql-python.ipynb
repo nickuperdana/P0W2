{
 "cells": [
  {
   "cell_type": "markdown",
   "metadata": {},
   "source": [
    "# Connect PostgreSQL with Python"
   ]
  },
  {
   "cell_type": "code",
   "execution_count": 5,
   "metadata": {},
   "outputs": [
    {
     "name": "stdout",
     "output_type": "stream",
     "text": [
      "Requirement already satisfied: psycopg2-binary in c:\\users\\nicku\\anaconda3\\lib\\site-packages (2.9.9)\n"
     ]
    }
   ],
   "source": [
    "!pip3 install psycopg2-binary"
   ]
  },
  {
   "cell_type": "code",
   "execution_count": 6,
   "metadata": {},
   "outputs": [],
   "source": [
    "import psycopg2\n",
    "from psycopg2 import sql"
   ]
  },
  {
   "cell_type": "code",
   "execution_count": 23,
   "metadata": {},
   "outputs": [],
   "source": [
    "# Replace these parameters with your actual database credentials\n",
    "db_user = \"postgres\"\n",
    "db_password = \"postgres\" #Use your own password\n",
    "db_host = \"localhost\"  # Usually \"localhost\" if running locally\n",
    "db_port = \"5432\"  # Default is 5432\n",
    "\n",
    "connection = psycopg2.connect(\n",
    "    user=db_user,\n",
    "    password=db_password,\n",
    "    host=db_host,\n",
    "    port=db_port,\n",
    "    database='w2d5' # cara mengakses database\n",
    ")"
   ]
  },
  {
   "cell_type": "code",
   "execution_count": 24,
   "metadata": {},
   "outputs": [],
   "source": [
    "cursor = connection.cursor()"
   ]
  },
  {
   "cell_type": "code",
   "execution_count": 13,
   "metadata": {},
   "outputs": [
    {
     "name": "stdout",
     "output_type": "stream",
     "text": [
      "(datetime.datetime(2023, 12, 22, 11, 36, 53, 644566, tzinfo=datetime.timezone(datetime.timedelta(seconds=25200))),)\n"
     ]
    }
   ],
   "source": [
    "connection.autocommit = True\n",
    "\n",
    "q = sql.SQL('SELECT NOW();') # Script sql diakses lewat python\n",
    "cursor.execute(q)\n",
    "\n",
    "result = cursor.fetchone()\n",
    "\n",
    "cursor.close()\n",
    "connection.close() # disarankan untuk close setelah melakukan transaksi\n",
    "\n",
    "print(result)"
   ]
  },
  {
   "cell_type": "code",
   "execution_count": 20,
   "metadata": {},
   "outputs": [
    {
     "name": "stdout",
     "output_type": "stream",
     "text": [
      "('FBS (Division I-A Teams)', 'American Athletic', 'Cincinnati', 'http://espn.go.com/ncf/teams/roster?teamId=2132', 1)\n"
     ]
    }
   ],
   "source": [
    "connection.autocommit = True\n",
    "\n",
    "q = sql.SQL('SELECT * FROM teams;') # Script sql diakses lewat python\n",
    "cursor.execute(q)\n",
    "\n",
    "result = cursor.fetchone()\n",
    "\n",
    "cursor.close()\n",
    "connection.close() # disarankan untuk close setelah melakukan transaksi\n",
    "\n",
    "print(result)"
   ]
  },
  {
   "cell_type": "code",
   "execution_count": 25,
   "metadata": {},
   "outputs": [
    {
     "name": "stdout",
     "output_type": "stream",
     "text": [
      "[('FBS (Division I-A Teams)', 'American Athletic', 'Cincinnati', 'http://espn.go.com/ncf/teams/roster?teamId=2132', 1), ('FBS (Division I-A Teams)', 'American Athletic', 'Connecticut', 'http://espn.go.com/ncf/teams/roster?teamId=41', 2), ('FBS (Division I-A Teams)', 'American Athletic', 'Houston', 'http://espn.go.com/ncf/teams/roster?teamId=248', 3), ('FBS (Division I-A Teams)', 'American Athletic', 'Louisville', 'http://espn.go.com/ncf/teams/roster?teamId=97', 4), ('FBS (Division I-A Teams)', 'American Athletic', 'Memphis', 'http://espn.go.com/ncf/teams/roster?teamId=235', 5), ('FBS (Division I-A Teams)', 'American Athletic', 'Rutgers', 'http://espn.go.com/ncf/teams/roster?teamId=164', 6), ('FBS (Division I-A Teams)', 'American Athletic', 'South Florida', 'http://espn.go.com/ncf/teams/roster?teamId=58', 7), ('FBS (Division I-A Teams)', 'American Athletic', 'Southern Methodist', 'http://espn.go.com/ncf/teams/roster?teamId=2567', 8), ('FBS (Division I-A Teams)', 'American Athletic', 'Temple', 'http://espn.go.com/ncf/teams/roster?teamId=218', 9), ('FBS (Division I-A Teams)', 'American Athletic', 'UCF', 'http://espn.go.com/ncf/teams/roster?teamId=2116', 10)]\n"
     ]
    }
   ],
   "source": [
    "#Fetch data dari 10 entry pertama\n",
    "\n",
    "connection.autocommit = True\n",
    "\n",
    "q = sql.SQL('SELECT * FROM teams;') # Script sql diakses lewat python\n",
    "cursor.execute(q)\n",
    "\n",
    "result = cursor.fetchmany(10)\n",
    "\n",
    "cursor.close()\n",
    "connection.close() # disarankan untuk close setelah melakukan transaksi\n",
    "\n",
    "print(result)"
   ]
  }
 ],
 "metadata": {
  "kernelspec": {
   "display_name": "Python 3",
   "language": "python",
   "name": "python3"
  },
  "language_info": {
   "codemirror_mode": {
    "name": "ipython",
    "version": 3
   },
   "file_extension": ".py",
   "mimetype": "text/x-python",
   "name": "python",
   "nbconvert_exporter": "python",
   "pygments_lexer": "ipython3",
   "version": "3.11.5"
  }
 },
 "nbformat": 4,
 "nbformat_minor": 2
}
